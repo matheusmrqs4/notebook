{
  "cells": [
    {
      "cell_type": "markdown",
      "id": "e9798830-a32f-4544-8c1d-351cba337724",
      "metadata": {},
      "source": [
        "In this notebook, Data Science Tools and Ecosystem are summarized."
      ]
    },
    {
      "cell_type": "markdown",
      "id": "eccdc2f2-869e-4afa-9320-2c2307f526fd",
      "metadata": {},
      "source": [
        "# Data Science Tools and Ecosystem"
      ]
    },
    {
      "cell_type": "markdown",
      "id": "e2aa2d7c-6088-4920-9aad-4aced1779a27",
      "metadata": {},
      "source": [
        "In this notebook, Data Science Tools and Ecosystem are summarized."
      ]
    },
    {
      "cell_type": "markdown",
      "id": "45429960-5c05-4daf-a133-c1fe043eb345",
      "metadata": {},
      "source": [
        "**Objectives:**\n",
        "\n",
        "- List popular languages ​​for Data Science.\n",
        "- List libraries commonly used in Data Science.\n",
        "- Present open source tools used in the field.\n",
        "- Demonstrate simple examples of arithmetic expressions in Python."
      ]
    },
    {
      "cell_type": "markdown",
      "id": "095d0999-678a-416f-b06a-785a35a0001f",
      "metadata": {},
      "source": [
        "Some of the popular languages ​​that Data Scientists use are:\n",
        "\n",
        "1. Python  \n",
        "2. R  \n",
        "3. SQL  \n",
        "4. Julia"
      ]
    },
    {
      "cell_type": "markdown",
      "id": "80ac905a-0f89-4b98-8c92-a78b6aad4d44",
      "metadata": {},
      "source": [
        "Some of the libraries commonly used by Data Scientists include:\n",
        "\n",
        "1. Pandas  \n",
        "2. NumPy  \n",
        "3. Matplotlib  \n",
        "4. Scikit-learn"
      ]
    },
    {
      "cell_type": "markdown",
      "id": "0687311e-42b2-48c9-837b-7aa49919fbd6",
      "metadata": {},
      "source": [
        "| Data Science Tools |\n",
        "|---------------------------------|\n",
        "| Jupyter Notebook                |\n",
        "| RStudio                        |\n",
        "| VS Code                       |\n"
      ]
    },
    {
      "cell_type": "markdown",
      "id": "83674e94-50d2-4d83-9f26-a99ceb3dab35",
      "metadata": {},
      "source": [
        "### Below are a few examples of evaluating arithmetic expressions in Python"
      ]
    },
    {
      "cell_type": "code",
      "execution_count": null,
      "id": "014f2197-66b2-4269-85b1-81c87bb00710",
      "metadata": {
        "trusted": true
      },
      "outputs": [
        {
          "name": "stdout",
          "output_type": "stream",
          "text": [
            "17\n"
          ]
        }
      ],
      "source": [
        "# This a simple arithmetic expression to mutiply then add integers\n",
        "r = (3 * 4) + 5\n",
        "print(r)\n"
      ]
    },
    {
      "cell_type": "code",
      "execution_count": 2,
      "id": "8cee1cf6-8653-49a5-b26e-093ff2a11dfe",
      "metadata": {
        "trusted": true
      },
      "outputs": [
        {
          "name": "stdout",
          "output_type": "stream",
          "text": [
            "3.3333333333333335\n"
          ]
        }
      ],
      "source": [
        "# This will convert 200 minutes to hours by diving by 60\n",
        "h = 200 / 60\n",
        "print(h)\n"
      ]
    },
    {
      "cell_type": "markdown",
      "id": "fa5c8abd-4eeb-46a7-9387-9c7b74b94d11",
      "metadata": {},
      "source": [
        "## Author\n",
        "\n",
        "Matheus Marques\n"
      ]
    }
  ],
  "metadata": {
    "kernelspec": {
      "display_name": "Python (Pyodide)",
      "language": "python",
      "name": "python"
    },
    "language_info": {
      "codemirror_mode": {
        "name": "python",
        "version": 3
      },
      "file_extension": ".py",
      "mimetype": "text/x-python",
      "name": "python",
      "nbconvert_exporter": "python",
      "pygments_lexer": "ipython3",
      "version": "3.8"
    }
  },
  "nbformat": 4,
  "nbformat_minor": 5
}
